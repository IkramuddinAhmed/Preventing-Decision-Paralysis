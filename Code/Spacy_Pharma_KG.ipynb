{
  "cells": [
    {
      "cell_type": "code",
      "execution_count": 1,
      "metadata": {
        "id": "PVeYsMmchMmS"
      },
      "outputs": [],
      "source": [
        "# Imports and BeautifulSoup Extraction\n",
        "import requests\n",
        "from bs4 import BeautifulSoup\n",
        "from transformers import AutoTokenizer, AutoModelForSeq2SeqLM\n",
        "\n",
        "# URL and headers for request\n",
        "url = \"https://www.ninds.nih.gov/health-information/disorders/parkinsons-disease\"\n",
        "headers = {\n",
        "    \"User-Agent\": \"Mozilla/5.0 (Windows NT 10.0; Win64; x64) AppleWebKit/537.36 (KHTML, like Gecko) Chrome/91.0.4472.124 Safari/537.36\",\n",
        "    \"Accept-Language\": \"en-US,en;q=0.9\",\n",
        "}"
      ]
    },
    {
      "cell_type": "code",
      "execution_count": 2,
      "metadata": {
        "id": "pLqpcZlihub5"
      },
      "outputs": [],
      "source": [
        "# Fetch page content\n",
        "response = requests.get(url, headers=headers)\n",
        "if response.status_code == 200:\n",
        "    soup = BeautifulSoup(response.content, 'html.parser')\n",
        "\n",
        "    # Extract titles and paragraphs\n",
        "    article_content = []\n",
        "    current_title = None\n",
        "    for element in soup.find_all(['h1', 'h2', 'h3', 'p']):\n",
        "        if element.name in ['h1', 'h2', 'h3']:\n",
        "            current_title = element.get_text(strip=True)\n",
        "        elif element.name == 'p' and current_title:\n",
        "            article_content.append({\"title\": current_title, \"paragraph\": element.get_text(strip=True)})\n",
        "\n",
        "    # Print the extracted content\n",
        "    # print(\"Extracted Content:\")\n",
        "    # The 'for' loop ends here\n",
        "    #for item in article_content:\n",
        "        # print(f\"Title: {item['title']}\")\n",
        "        # print(f\"Paragraph: {item['paragraph']}\")\n",
        "        # print(\"----\")\n",
        "\n",
        "else:\n",
        "  # print(f\"Failed to retrieve the page. Status code: {response.status_code}\")\n",
        "  article_content = []"
      ]
    },
    {
      "cell_type": "code",
      "execution_count": 3,
      "metadata": {
        "id": "v1VtgTTZ9f1h"
      },
      "outputs": [],
      "source": [
        "# Filter paragraphs based on specific titles and words\n",
        "target_titles = [\"Treating PD\"]  # titles to focus on\n",
        "keywords = [\"Carbidopa-Levodopa\", \"levodopa\", \"Dopamine agonists\", \"MAO-B inhibitors\", \"COMT inhibitors\", \"Anticholinergics\", \"Amantadine\"]  # Add specific keywords you want to focus on\n",
        "\n",
        "# Filter paragraphs by target titles\n",
        "filtered_content = [item for item in article_content if item['title'] in target_titles]"
      ]
    },
    {
      "cell_type": "code",
      "execution_count": 4,
      "metadata": {
        "colab": {
          "base_uri": "https://localhost:8080/"
        },
        "id": "QZzhfdElAuJh",
        "outputId": "ffcdce2f-9b2a-463e-fbee-aa0dacff6cf4"
      },
      "outputs": [
        {
          "output_type": "stream",
          "name": "stdout",
          "text": [
            "Title: Treating PD\n",
            "Paragraph: Carbidopa-Levodopa.The cornerstone of PD therapy is a medication called levodopa (also known as L-dopa). Levodopa can reduce the movement-related symptoms of PD, but it does not replace lost nerve cells or stop its progression. Nerve cells can use levodopa to make dopamine and replenish the brain's reduced supply. People cannot simply take dopamine pills because dopamine does not easily cross theblood-brain barrier, a protective lining of cells inside blood vessels that regulate the transport of oxygen, glucose, medications, and other substances in the brain. People with PD are given levodopa combined with another substance called carbidopa. When added to levodopa, carbidopa prevents the conversion of levodopa into dopamine except for in the brain. This stops or diminishes the side effects of  excess dopamine in the bloodstream, such as nausea. Carbidopa-levodopa is often very successful at reducing or eliminating the tremors and other motor symptoms of PD during the early stages of the disease. People may need to increase their dose of levodopa gradually for maximum benefit.\n",
            "\n",
            "Title: Treating PD\n",
            "Paragraph: Initial side effects of carbidopa-levodopa may include nausea, low blood pressure, restlessness, and drowsiness. Over long-term use of carbidopa-levodopa, a person may experience dyskinesia (involuntary movements such as twisting and writhing), hallucinations, or psychosis.\n",
            "\n",
            "Title: Treating PD\n",
            "Paragraph: Later in the course of the disease, people with PD may notice more pronounced symptoms before their first dose of medication in the morning and between doses as the period of effectiveness after each dose begins to shorten. People may experience sudden, unpredictable “off periods” where the medications do not seem to be working. Taking levodopa more often and in smaller amounts can help with this. People with PD should never stop taking levodopa without consulting their doctor because rapidly withdrawing the drug can have potentially serious side effects.\n",
            "\n",
            "Title: Treating PD\n",
            "Paragraph: Dopamine agonists. These mimic the role of dopamine in the brain and can be given alone or with levodopa. They are used most often in early-stage PD or in conjunction with levodopa in later stages. Many of the potential side effects are similar to those associated with the use of levodopa, including drowsiness, sudden falling asleep, hallucinations, confusion, dyskinesia, edema (swelling due to excess fluid in body tissues), nightmares, and vomiting. In rare cases, they can cause an uncontrollable desire to gamble, hypersexuality, or compulsive shopping. Dopamine agonist drugs include apomorphine, pramipexole, ropinirole, and rotigotine.\n",
            "\n",
            "Title: Treating PD\n",
            "Paragraph: MAO-B inhibitors. These drugs block or reduce the activity of the enzyme monoamine oxidase B, or MAO-B, which breaks down dopamine in the brain. MAO-B inhibitors cause dopamine to accumulate in surviving nerve cells and reduce the symptoms of PD. These medications include selegiline and rasagiline. Studies supported byNINDShave shown that selegiline (also called deprenyl) can delay the need for levodopa therapy by up to a year or more. When selegiline is given with levodopa, it appears to enhance and prolong the response to levodopa. Selegiline is usually well-tolerated, although side effects may include nausea, orthostatic hypotension, and insomnia. The drug rasagiline is used to treat the motor symptoms of PD (with or without levodopa).\n",
            "\n",
            "Title: Treating PD\n",
            "Paragraph: COMT inhibitors. COMT stands for catechol-O-methyltransferase and is another enzyme that breaks down dopamine. The COMT inhibitor drugs entacapone, opicapone, and tolcapone prolong the effects of levodopa by preventing the breakdown of dopamine. They can decrease the duration of “off periods” of one's dose of levodopa. Side effects may include diarrhea, nausea, sleep disturbances, dizziness, urine discoloration, abdominal pain, low blood pressure, or hallucinations. In a few rare cases, tolcapone has caused severe liver disease, and people taking tolcapone should have their liver function monitored regularly.\n",
            "\n",
            "Title: Treating PD\n",
            "Paragraph: Anticholinergics. These drugs, which include trihexyphenidyl, benztropine, and ethopropazine, decrease the activity of the neurotransmitter acetylcholine and can be particularly effective for PD tremor. Side effects may include dry mouth, constipation, urinary retention, hallucinations, memory loss, blurred vision, and confusion.\n",
            "\n",
            "Title: Treating PD\n",
            "Paragraph: Amantadine. This antiviral drug can help reduce symptoms of PD and levodopa-induced dyskinesia. It can be prescribed alone in the early stages of the disease, and can be used with an anticholinergic drug or levodopa. After several months, amantadine's effectiveness wears off in up to half of the people taking it. Amantadine's side effects may include insomnia, mottled skin, edema, agitation, or hallucinations. Researchers are not certain how amantadine works in PD, but it may increase the effects of dopamine.\n",
            "\n"
          ]
        }
      ],
      "source": [
        "filtered_paragraphs = []\n",
        "for item in filtered_content:\n",
        "    paragraph = item['paragraph']\n",
        "    # Check if any keyword exists in the paragraph\n",
        "    if any(keyword.lower() in paragraph.lower() for keyword in keywords):\n",
        "        filtered_paragraphs.append(item)\n",
        "\n",
        "# Debug: Print filtered paragraphs\n",
        "for item in filtered_paragraphs:\n",
        "    print(f\"Title: {item['title']}\")\n",
        "    print(f\"Paragraph: {item['paragraph']}\\n\")"
      ]
    },
    {
      "cell_type": "code",
      "source": [
        "import spacy\n",
        "\n",
        "nlp = spacy.load(\"en_core_web_sm\")\n",
        "\n",
        "\n",
        "\n",
        "\n",
        "def extract_svo(sentence):\n",
        "    \"\"\"\n",
        "    Extract subject-verb-object triplets from a sentence.\n",
        "    \"\"\"\n",
        "    doc = nlp(sentence)\n",
        "    svos = []\n",
        "\n",
        "    for token in doc:\n",
        "        if token.dep_ in {\"nsubj\", \"nsubjpass\"}:  # Subject\n",
        "            subject = token.text\n",
        "            verb = token.head.text  # Verb is the head of the subject\n",
        "            obj = None\n",
        "\n",
        "            for child in token.head.children:  # Look for objects\n",
        "                if child.dep_ in {\"dobj\", \"pobj\", \"attr\"}:\n",
        "                    obj = child.text\n",
        "                    svos.append((subject, verb, obj))\n",
        "                elif child.dep_ == \"conj\":  # Handle conjunctions (e.g., X and Y)\n",
        "                    obj = child.text\n",
        "                    svos.append((subject, verb, obj))\n",
        "\n",
        "    return svos\n",
        "\n",
        "\n"
      ],
      "metadata": {
        "id": "BWyEndYtYXUJ"
      },
      "execution_count": 5,
      "outputs": []
    },
    {
      "cell_type": "code",
      "source": [
        "def convert_to_svo_format(paragraph):\n",
        "    \"\"\"\n",
        "    Convert a paragraph into simplified SVO sentences.\n",
        "    \"\"\"\n",
        "    doc = nlp(paragraph)\n",
        "    svo_sentences = []\n",
        "\n",
        "    for sent in doc.sents:\n",
        "        svos = extract_svo(sent.text)\n",
        "        for subject, verb, obj in svos:\n",
        "            svo_sentences.append(f\"{subject} {verb} {obj}.\")\n",
        "\n",
        "    return \" \".join(svo_sentences)\n"
      ],
      "metadata": {
        "id": "D7X9256NWLdo"
      },
      "execution_count": 6,
      "outputs": []
    },
    {
      "cell_type": "code",
      "source": [
        "# Convert to SVO format\n",
        "# Iterate through each item in the filtered_paragraphs list\n",
        "for item in filtered_paragraphs:\n",
        "    paragraph_text = item['paragraph'] # Get the actual paragraph text\n",
        "    svo_paragraph = convert_to_svo_format(paragraph_text) # Pass the text to the function\n",
        "    print(f\"Original Paragraph:\\n{paragraph_text}\\n\") # Print the original paragraph text\n",
        "    print(f\"SVO Format:\\n{svo_paragraph}\\n\") # Print the SVO format"
      ],
      "metadata": {
        "colab": {
          "base_uri": "https://localhost:8080/"
        },
        "id": "up2vHrKEZpGW",
        "outputId": "5ec31164-7899-476b-dcda-4e0e1001e8d5"
      },
      "execution_count": 7,
      "outputs": [
        {
          "output_type": "stream",
          "name": "stdout",
          "text": [
            "Original Paragraph:\n",
            "Carbidopa-Levodopa.The cornerstone of PD therapy is a medication called levodopa (also known as L-dopa). Levodopa can reduce the movement-related symptoms of PD, but it does not replace lost nerve cells or stop its progression. Nerve cells can use levodopa to make dopamine and replenish the brain's reduced supply. People cannot simply take dopamine pills because dopamine does not easily cross theblood-brain barrier, a protective lining of cells inside blood vessels that regulate the transport of oxygen, glucose, medications, and other substances in the brain. People with PD are given levodopa combined with another substance called carbidopa. When added to levodopa, carbidopa prevents the conversion of levodopa into dopamine except for in the brain. This stops or diminishes the side effects of  excess dopamine in the bloodstream, such as nausea. Carbidopa-levodopa is often very successful at reducing or eliminating the tremors and other motor symptoms of PD during the early stages of the disease. People may need to increase their dose of levodopa gradually for maximum benefit.\n",
            "\n",
            "SVO Format:\n",
            "cornerstone is medication. Levodopa reduce symptoms. Levodopa reduce replace. it replace cells. it replace stop. cells use levodopa. People take pills. dopamine cross barrier. that regulate transport. People given levodopa. carbidopa prevents conversion. This stops diminishes.\n",
            "\n",
            "Original Paragraph:\n",
            "Initial side effects of carbidopa-levodopa may include nausea, low blood pressure, restlessness, and drowsiness. Over long-term use of carbidopa-levodopa, a person may experience dyskinesia (involuntary movements such as twisting and writhing), hallucinations, or psychosis.\n",
            "\n",
            "SVO Format:\n",
            "effects include nausea. person experience dyskinesia.\n",
            "\n",
            "Original Paragraph:\n",
            "Later in the course of the disease, people with PD may notice more pronounced symptoms before their first dose of medication in the morning and between doses as the period of effectiveness after each dose begins to shorten. People may experience sudden, unpredictable “off periods” where the medications do not seem to be working. Taking levodopa more often and in smaller amounts can help with this. People with PD should never stop taking levodopa without consulting their doctor because rapidly withdrawing the drug can have potentially serious side effects.\n",
            "\n",
            "SVO Format:\n",
            "people notice symptoms. People experience periods.\n",
            "\n",
            "Original Paragraph:\n",
            "Dopamine agonists. These mimic the role of dopamine in the brain and can be given alone or with levodopa. They are used most often in early-stage PD or in conjunction with levodopa in later stages. Many of the potential side effects are similar to those associated with the use of levodopa, including drowsiness, sudden falling asleep, hallucinations, confusion, dyskinesia, edema (swelling due to excess fluid in body tissues), nightmares, and vomiting. In rare cases, they can cause an uncontrollable desire to gamble, hypersexuality, or compulsive shopping. Dopamine agonist drugs include apomorphine, pramipexole, ropinirole, and rotigotine.\n",
            "\n",
            "SVO Format:\n",
            "These mimic role. These mimic given. they cause desire. drugs include apomorphine.\n",
            "\n",
            "Original Paragraph:\n",
            "MAO-B inhibitors. These drugs block or reduce the activity of the enzyme monoamine oxidase B, or MAO-B, which breaks down dopamine in the brain. MAO-B inhibitors cause dopamine to accumulate in surviving nerve cells and reduce the symptoms of PD. These medications include selegiline and rasagiline. Studies supported byNINDShave shown that selegiline (also called deprenyl) can delay the need for levodopa therapy by up to a year or more. When selegiline is given with levodopa, it appears to enhance and prolong the response to levodopa. Selegiline is usually well-tolerated, although side effects may include nausea, orthostatic hypotension, and insomnia. The drug rasagiline is used to treat the motor symptoms of PD (with or without levodopa).\n",
            "\n",
            "SVO Format:\n",
            "drugs block reduce. which breaks dopamine. dopamine accumulate reduce. medications include selegiline. selegiline delay need. effects include nausea.\n",
            "\n",
            "Original Paragraph:\n",
            "COMT inhibitors. COMT stands for catechol-O-methyltransferase and is another enzyme that breaks down dopamine. The COMT inhibitor drugs entacapone, opicapone, and tolcapone prolong the effects of levodopa by preventing the breakdown of dopamine. They can decrease the duration of “off periods” of one's dose of levodopa. Side effects may include diarrhea, nausea, sleep disturbances, dizziness, urine discoloration, abdominal pain, low blood pressure, or hallucinations. In a few rare cases, tolcapone has caused severe liver disease, and people taking tolcapone should have their liver function monitored regularly.\n",
            "\n",
            "SVO Format:\n",
            "COMT stands is. that breaks dopamine. They decrease duration. effects include diarrhea. tolcapone caused disease. tolcapone caused have.\n",
            "\n",
            "Original Paragraph:\n",
            "Anticholinergics. These drugs, which include trihexyphenidyl, benztropine, and ethopropazine, decrease the activity of the neurotransmitter acetylcholine and can be particularly effective for PD tremor. Side effects may include dry mouth, constipation, urinary retention, hallucinations, memory loss, blurred vision, and confusion.\n",
            "\n",
            "SVO Format:\n",
            "drugs decrease activity. drugs decrease be. which include trihexyphenidyl. effects include mouth.\n",
            "\n",
            "Original Paragraph:\n",
            "Amantadine. This antiviral drug can help reduce symptoms of PD and levodopa-induced dyskinesia. It can be prescribed alone in the early stages of the disease, and can be used with an anticholinergic drug or levodopa. After several months, amantadine's effectiveness wears off in up to half of the people taking it. Amantadine's side effects may include insomnia, mottled skin, edema, agitation, or hallucinations. Researchers are not certain how amantadine works in PD, but it may increase the effects of dopamine.\n",
            "\n",
            "SVO Format:\n",
            "It prescribed used. effects include insomnia. Researchers are increase. it increase effects.\n",
            "\n"
          ]
        }
      ]
    },
    {
      "cell_type": "code",
      "source": [
        "from collections import defaultdict\n",
        "\n",
        "def parse_svo_to_mappings(svo_text):\n",
        "    \"\"\"\n",
        "    Parse SVO text into Drug-Aspects and Drug-Side Effects mappings.\n",
        "    \"\"\"\n",
        "    aspect_relations = {\"reduce\", \"delay\", \"increase\"}\n",
        "    side_effect_relations = {\"include\", \"cause\", \"leads to\", \"experience\"}\n",
        "    drug_aspects = defaultdict(list)\n",
        "    drug_side_effects = defaultdict(list)\n",
        "\n",
        "    for sentence in svo_text.split(\". \"):\n",
        "        tokens = sentence.strip().split(\" \")\n",
        "        if len(tokens) < 3:\n",
        "            continue\n",
        "\n",
        "        subject, verb, obj = tokens[0], tokens[1], \" \".join(tokens[2:])\n",
        "        if verb in aspect_relations:\n",
        "            drug_aspects[subject].append((verb, obj))\n",
        "        elif verb in side_effect_relations:\n",
        "            drug_side_effects[subject].append((verb, obj))\n",
        "\n",
        "    return drug_aspects, drug_side_effects\n",
        "\n"
      ],
      "metadata": {
        "id": "e-UvEPPggDHl"
      },
      "execution_count": 8,
      "outputs": []
    },
    {
      "cell_type": "code",
      "source": [
        "# Debugging SVO extraction\n",
        "for item in filtered_paragraphs:\n",
        "    paragraph_text = item['paragraph']\n",
        "    svo_paragraph = convert_to_svo_format(paragraph_text)\n",
        "\n",
        "\n",
        "    # Parse SVOs to mappings\n",
        "    drug_aspects, drug_side_effects = parse_svo_to_mappings(svo_paragraph)\n",
        "\n",
        "    print(\"\\nDrug-Aspects Mapping:\")\n",
        "    for drug, aspects in drug_aspects.items():\n",
        "        print(f\"Drug: {drug}\")\n",
        "        for relation, aspect in aspects:\n",
        "            print(f\"  - Relation: {relation} | Aspect: {aspect}\")\n",
        "        print()\n",
        "\n",
        "    print(\"\\nDrug-Side Effects Mapping:\")\n",
        "    for drug, side_effects in drug_side_effects.items():\n",
        "        print(f\"Drug: {drug}\")\n",
        "        for relation, side_effect in side_effects:\n",
        "            print(f\"  - Relation: {relation} | Side Effect: {side_effect}\")\n",
        "        print()\n"
      ],
      "metadata": {
        "colab": {
          "base_uri": "https://localhost:8080/"
        },
        "id": "cpub9x9MX36i",
        "outputId": "6a24433d-1f3a-43bf-af04-28edd78e320c"
      },
      "execution_count": 9,
      "outputs": [
        {
          "output_type": "stream",
          "name": "stdout",
          "text": [
            "\n",
            "Drug-Aspects Mapping:\n",
            "Drug: Levodopa\n",
            "  - Relation: reduce | Aspect: symptoms\n",
            "  - Relation: reduce | Aspect: replace\n",
            "\n",
            "\n",
            "Drug-Side Effects Mapping:\n",
            "\n",
            "Drug-Aspects Mapping:\n",
            "\n",
            "Drug-Side Effects Mapping:\n",
            "Drug: effects\n",
            "  - Relation: include | Side Effect: nausea\n",
            "\n",
            "Drug: person\n",
            "  - Relation: experience | Side Effect: dyskinesia.\n",
            "\n",
            "\n",
            "Drug-Aspects Mapping:\n",
            "\n",
            "Drug-Side Effects Mapping:\n",
            "Drug: People\n",
            "  - Relation: experience | Side Effect: periods.\n",
            "\n",
            "\n",
            "Drug-Aspects Mapping:\n",
            "\n",
            "Drug-Side Effects Mapping:\n",
            "Drug: they\n",
            "  - Relation: cause | Side Effect: desire\n",
            "\n",
            "Drug: drugs\n",
            "  - Relation: include | Side Effect: apomorphine.\n",
            "\n",
            "\n",
            "Drug-Aspects Mapping:\n",
            "Drug: selegiline\n",
            "  - Relation: delay | Aspect: need\n",
            "\n",
            "\n",
            "Drug-Side Effects Mapping:\n",
            "Drug: medications\n",
            "  - Relation: include | Side Effect: selegiline\n",
            "\n",
            "Drug: effects\n",
            "  - Relation: include | Side Effect: nausea.\n",
            "\n",
            "\n",
            "Drug-Aspects Mapping:\n",
            "\n",
            "Drug-Side Effects Mapping:\n",
            "Drug: effects\n",
            "  - Relation: include | Side Effect: diarrhea\n",
            "\n",
            "\n",
            "Drug-Aspects Mapping:\n",
            "\n",
            "Drug-Side Effects Mapping:\n",
            "Drug: which\n",
            "  - Relation: include | Side Effect: trihexyphenidyl\n",
            "\n",
            "Drug: effects\n",
            "  - Relation: include | Side Effect: mouth.\n",
            "\n",
            "\n",
            "Drug-Aspects Mapping:\n",
            "Drug: it\n",
            "  - Relation: increase | Aspect: effects.\n",
            "\n",
            "\n",
            "Drug-Side Effects Mapping:\n",
            "Drug: effects\n",
            "  - Relation: include | Side Effect: insomnia\n",
            "\n"
          ]
        }
      ]
    },
    {
      "cell_type": "code",
      "source": [],
      "metadata": {
        "id": "amttbMBYrYlk"
      },
      "execution_count": null,
      "outputs": []
    }
  ],
  "metadata": {
    "colab": {
      "gpuType": "T4",
      "provenance": []
    },
    "kernelspec": {
      "display_name": "Python 3",
      "name": "python3"
    },
    "language_info": {
      "name": "python"
    }
  },
  "nbformat": 4,
  "nbformat_minor": 0
}